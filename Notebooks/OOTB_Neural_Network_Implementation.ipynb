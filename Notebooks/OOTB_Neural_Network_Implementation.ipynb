{
 "cells": [
  {
   "cell_type": "markdown",
   "metadata": {},
   "source": [
    "Importing the basic libraries for implementation of neural networks."
   ]
  },
  {
   "cell_type": "code",
   "execution_count": 1,
   "metadata": {},
   "outputs": [],
   "source": [
    "import numpy as np\n",
    "import pandas as pd\n",
    "import tensorflow as tf\n",
    "from tensorflow.keras import layers\n",
    "from tensorflow.keras.preprocessing.text import Tokenizer\n",
    "from tensorflow.keras.preprocessing.sequence import pad_sequences\n",
    "import matplotlib as mpl"
   ]
  },
  {
   "cell_type": "markdown",
   "metadata": {},
   "source": [
    "Perceptron Designing"
   ]
  },
  {
   "cell_type": "code",
   "execution_count": 2,
   "metadata": {},
   "outputs": [],
   "source": [
    "d_set= pd.read_csv('./../Data/addition_dataset_2.csv')\n",
    "d_set.head()\n",
    "dset_features=d_set.copy()\n",
    "dset_labels=dset_features.pop('result')\n",
    "dset_features=np.array(dset_features)\n",
    "dset_model = tf.keras.Sequential([\n",
    "  #layers.Dense(64),\n",
    "  layers.Dense(1)\n",
    "])\n",
    "\n",
    "dset_model.compile(optimizer='adam', loss='mean_squared_error', metrics=['accuracy'])"
   ]
  },
  {
   "cell_type": "markdown",
   "metadata": {},
   "source": [
    "Perceptron Training"
   ]
  },
  {
   "cell_type": "code",
   "execution_count": 3,
   "metadata": {},
   "outputs": [
    {
     "name": "stdout",
     "output_type": "stream",
     "text": [
      "Epoch 1/50\n",
      "500/500 [==============================] - 1s 992us/step - loss: 217087744.0000 - accuracy: 0.0000e+00 - val_loss: 435382880.0000 - val_accuracy: 0.0000e+00\n",
      "Epoch 2/50\n",
      "500/500 [==============================] - 0s 902us/step - loss: 61404156.0000 - accuracy: 6.2500e-05 - val_loss: 97443248.0000 - val_accuracy: 0.0000e+00\n",
      "Epoch 3/50\n",
      "500/500 [==============================] - 0s 878us/step - loss: 11482755.0000 - accuracy: 6.2500e-05 - val_loss: 12697872.0000 - val_accuracy: 0.0000e+00\n",
      "Epoch 4/50\n",
      "500/500 [==============================] - 0s 873us/step - loss: 1198058.0000 - accuracy: 6.2500e-05 - val_loss: 782577.1250 - val_accuracy: 0.0000e+00\n",
      "Epoch 5/50\n",
      "500/500 [==============================] - 0s 916us/step - loss: 58040.5391 - accuracy: 6.2500e-05 - val_loss: 18762.1719 - val_accuracy: 0.0000e+00\n",
      "Epoch 6/50\n",
      "500/500 [==============================] - 0s 877us/step - loss: 1068.1726 - accuracy: 6.2500e-05 - val_loss: 140.4033 - val_accuracy: 0.0000e+00\n",
      "Epoch 7/50\n",
      "500/500 [==============================] - 0s 913us/step - loss: 5.8210 - accuracy: 6.2500e-05 - val_loss: 0.8641 - val_accuracy: 0.0000e+00\n",
      "Epoch 8/50\n",
      "500/500 [==============================] - 0s 876us/step - loss: 0.1445 - accuracy: 6.2500e-05 - val_loss: 0.3602 - val_accuracy: 0.0000e+00\n",
      "Epoch 9/50\n",
      "500/500 [==============================] - 0s 958us/step - loss: 0.1381 - accuracy: 6.2500e-05 - val_loss: 0.3324 - val_accuracy: 0.0000e+00\n",
      "Epoch 10/50\n",
      "500/500 [==============================] - 0s 865us/step - loss: 0.1374 - accuracy: 6.2500e-05 - val_loss: 0.3082 - val_accuracy: 0.0000e+00\n",
      "Epoch 11/50\n",
      "500/500 [==============================] - 0s 881us/step - loss: 0.1368 - accuracy: 6.2500e-05 - val_loss: 0.2883 - val_accuracy: 0.0000e+00\n",
      "Epoch 12/50\n",
      "500/500 [==============================] - 0s 851us/step - loss: 0.1366 - accuracy: 6.2500e-05 - val_loss: 0.2658 - val_accuracy: 0.0000e+00\n",
      "Epoch 13/50\n",
      "500/500 [==============================] - 0s 840us/step - loss: 0.1364 - accuracy: 6.2500e-05 - val_loss: 0.2669 - val_accuracy: 0.0000e+00\n",
      "Epoch 14/50\n",
      "500/500 [==============================] - 0s 840us/step - loss: 0.1364 - accuracy: 6.2500e-05 - val_loss: 0.2680 - val_accuracy: 0.0000e+00\n",
      "Epoch 15/50\n",
      "500/500 [==============================] - 0s 822us/step - loss: 0.1363 - accuracy: 6.2500e-05 - val_loss: 0.2837 - val_accuracy: 0.0000e+00\n",
      "Epoch 16/50\n",
      "500/500 [==============================] - 0s 887us/step - loss: 0.1362 - accuracy: 6.2500e-05 - val_loss: 0.2747 - val_accuracy: 0.0000e+00\n",
      "Epoch 17/50\n",
      "500/500 [==============================] - 0s 826us/step - loss: 0.1360 - accuracy: 6.2500e-05 - val_loss: 0.2816 - val_accuracy: 0.0000e+00\n",
      "Epoch 18/50\n",
      "500/500 [==============================] - 0s 878us/step - loss: 0.1360 - accuracy: 6.2500e-05 - val_loss: 0.2805 - val_accuracy: 0.0000e+00\n",
      "Epoch 19/50\n",
      "500/500 [==============================] - 0s 897us/step - loss: 0.1357 - accuracy: 6.2500e-05 - val_loss: 0.2831 - val_accuracy: 0.0000e+00\n",
      "Epoch 20/50\n",
      "500/500 [==============================] - 0s 837us/step - loss: 0.1354 - accuracy: 6.2500e-05 - val_loss: 0.2302 - val_accuracy: 0.0000e+00\n",
      "Epoch 21/50\n",
      "500/500 [==============================] - 0s 851us/step - loss: 0.1351 - accuracy: 6.2500e-05 - val_loss: 0.2720 - val_accuracy: 0.0000e+00\n",
      "Epoch 22/50\n",
      "500/500 [==============================] - 0s 892us/step - loss: 0.1346 - accuracy: 6.2500e-05 - val_loss: 0.2307 - val_accuracy: 0.0000e+00\n",
      "Epoch 23/50\n",
      "500/500 [==============================] - 0s 843us/step - loss: 0.1342 - accuracy: 6.2500e-05 - val_loss: 0.3108 - val_accuracy: 0.0000e+00\n",
      "Epoch 24/50\n",
      "500/500 [==============================] - 0s 847us/step - loss: 0.1333 - accuracy: 6.2500e-05 - val_loss: 0.2073 - val_accuracy: 0.0000e+00\n",
      "Epoch 25/50\n",
      "500/500 [==============================] - 0s 867us/step - loss: 0.1322 - accuracy: 6.2500e-05 - val_loss: 0.2909 - val_accuracy: 0.0000e+00\n",
      "Epoch 26/50\n",
      "500/500 [==============================] - 0s 842us/step - loss: 0.1315 - accuracy: 6.2500e-05 - val_loss: 0.1523 - val_accuracy: 0.0000e+00\n",
      "Epoch 27/50\n",
      "500/500 [==============================] - 0s 850us/step - loss: 0.1298 - accuracy: 6.2500e-05 - val_loss: 0.2799 - val_accuracy: 0.0000e+00\n",
      "Epoch 28/50\n",
      "500/500 [==============================] - 0s 870us/step - loss: 0.1280 - accuracy: 6.2500e-05 - val_loss: 0.1693 - val_accuracy: 0.0000e+00\n",
      "Epoch 29/50\n",
      "500/500 [==============================] - 0s 886us/step - loss: 0.1259 - accuracy: 6.2500e-05 - val_loss: 0.2781 - val_accuracy: 0.0000e+00\n",
      "Epoch 30/50\n",
      "500/500 [==============================] - 0s 849us/step - loss: 0.1221 - accuracy: 6.2500e-05 - val_loss: 0.1791 - val_accuracy: 0.0000e+00\n",
      "Epoch 31/50\n",
      "500/500 [==============================] - 0s 868us/step - loss: 0.1188 - accuracy: 6.2500e-05 - val_loss: 0.2632 - val_accuracy: 0.0000e+00\n",
      "Epoch 32/50\n",
      "500/500 [==============================] - 0s 857us/step - loss: 0.1137 - accuracy: 6.2500e-05 - val_loss: 0.1826 - val_accuracy: 0.0000e+00\n",
      "Epoch 33/50\n",
      "500/500 [==============================] - 0s 870us/step - loss: 0.1078 - accuracy: 6.2500e-05 - val_loss: 0.2835 - val_accuracy: 0.0000e+00\n",
      "Epoch 34/50\n",
      "500/500 [==============================] - 0s 876us/step - loss: 0.1009 - accuracy: 6.2500e-05 - val_loss: 0.0255 - val_accuracy: 0.0000e+00\n",
      "Epoch 35/50\n",
      "500/500 [==============================] - 0s 873us/step - loss: 0.0926 - accuracy: 6.2500e-05 - val_loss: 0.0554 - val_accuracy: 0.0000e+00\n",
      "Epoch 36/50\n",
      "500/500 [==============================] - 0s 900us/step - loss: 0.0850 - accuracy: 6.2500e-05 - val_loss: 0.0414 - val_accuracy: 0.0000e+00\n",
      "Epoch 37/50\n",
      "500/500 [==============================] - 0s 887us/step - loss: 0.0752 - accuracy: 6.2500e-05 - val_loss: 0.4060 - val_accuracy: 0.0000e+00\n",
      "Epoch 38/50\n",
      "500/500 [==============================] - 0s 857us/step - loss: 0.0861 - accuracy: 6.2500e-05 - val_loss: 0.1804 - val_accuracy: 0.0000e+00\n",
      "Epoch 39/50\n",
      "500/500 [==============================] - 0s 860us/step - loss: 0.0554 - accuracy: 6.2500e-05 - val_loss: 0.3289 - val_accuracy: 0.0000e+00\n",
      "Epoch 40/50\n",
      "500/500 [==============================] - 0s 842us/step - loss: 0.0615 - accuracy: 6.2500e-05 - val_loss: 0.2569 - val_accuracy: 0.0000e+00\n",
      "Epoch 41/50\n",
      "500/500 [==============================] - 0s 864us/step - loss: 0.2712 - accuracy: 6.2500e-05 - val_loss: 0.0648 - val_accuracy: 0.0000e+00\n",
      "Epoch 42/50\n",
      "500/500 [==============================] - 0s 914us/step - loss: 0.5969 - accuracy: 6.2500e-05 - val_loss: 0.1153 - val_accuracy: 0.0000e+00\n",
      "Epoch 43/50\n",
      "500/500 [==============================] - 0s 864us/step - loss: 0.5949 - accuracy: 6.2500e-05 - val_loss: 0.0060 - val_accuracy: 0.0000e+00\n",
      "Epoch 44/50\n",
      "500/500 [==============================] - 0s 853us/step - loss: 0.5570 - accuracy: 6.2500e-05 - val_loss: 0.0195 - val_accuracy: 0.0000e+00\n",
      "Epoch 45/50\n",
      "500/500 [==============================] - 0s 864us/step - loss: 0.3303 - accuracy: 6.2500e-05 - val_loss: 0.0263 - val_accuracy: 0.0000e+00\n",
      "Epoch 46/50\n",
      "500/500 [==============================] - 0s 849us/step - loss: 0.3416 - accuracy: 6.2500e-05 - val_loss: 0.0058 - val_accuracy: 0.0000e+00\n",
      "Epoch 47/50\n",
      "500/500 [==============================] - 0s 864us/step - loss: 0.3957 - accuracy: 6.2500e-05 - val_loss: 6.3854 - val_accuracy: 0.0000e+00\n",
      "Epoch 48/50\n",
      "500/500 [==============================] - 0s 861us/step - loss: 0.4100 - accuracy: 6.2500e-05 - val_loss: 0.0112 - val_accuracy: 0.0000e+00\n",
      "Epoch 49/50\n",
      "500/500 [==============================] - 0s 898us/step - loss: 1.0424 - accuracy: 6.2500e-05 - val_loss: 0.4592 - val_accuracy: 0.0000e+00\n",
      "Epoch 50/50\n",
      "500/500 [==============================] - 0s 880us/step - loss: 0.0079 - accuracy: 6.2500e-05 - val_loss: 0.0035 - val_accuracy: 0.0000e+00\n"
     ]
    },
    {
     "data": {
      "text/plain": [
       "<keras.src.callbacks.History at 0x2053a027b10>"
      ]
     },
     "execution_count": 3,
     "metadata": {},
     "output_type": "execute_result"
    }
   ],
   "source": [
    "dset_model.fit(dset_features, dset_labels, epochs=50,validation_split=0.2)"
   ]
  },
  {
   "cell_type": "markdown",
   "metadata": {},
   "source": [
    "Testing Perceptron"
   ]
  },
  {
   "cell_type": "code",
   "execution_count": 4,
   "metadata": {},
   "outputs": [
    {
     "name": "stdout",
     "output_type": "stream",
     "text": [
      "1/1 [==============================] - 0s 46ms/step\n"
     ]
    },
    {
     "data": {
      "text/plain": [
       "array([[ 1.0381777],\n",
       "       [ 3.0381725],\n",
       "       [ 5.038167 ],\n",
       "       [ 7.0381613],\n",
       "       [ 9.038156 ],\n",
       "       [11.038151 ],\n",
       "       [13.038145 ],\n",
       "       [15.038139 ],\n",
       "       [17.038134 ],\n",
       "       [19.038128 ],\n",
       "       [21.038122 ],\n",
       "       [23.038118 ],\n",
       "       [25.038113 ],\n",
       "       [27.038109 ],\n",
       "       [29.038101 ],\n",
       "       [31.038097 ],\n",
       "       [33.03809  ],\n",
       "       [35.038086 ],\n",
       "       [37.03808  ],\n",
       "       [39.038074 ]], dtype=float32)"
      ]
     },
     "execution_count": 4,
     "metadata": {},
     "output_type": "execute_result"
    }
   ],
   "source": [
    "dset_model.predict(dset_features[:20])"
   ]
  },
  {
   "cell_type": "code",
   "execution_count": null,
   "metadata": {},
   "outputs": [],
   "source": [
    "import numpy as np\n",
    "import pandas as pd\n",
    "import tensorflow as tf\n",
    "from tensorflow.keras import layers\n",
    "from tensorflow.keras.preprocessing.text import Tokenizer\n",
    "from tensorflow.keras.preprocessing.sequence import pad_sequences\n",
    "\n",
    "# Load the dataset\n",
    "d_set = pd.read_csv('./../Data/addition_dataset.csv')\n",
    "dset_features = d_set['equation'].values\n",
    "dset_labels = d_set['result'].values\n",
    "\n",
    "# Tokenize the text\n",
    "tokenizer = Tokenizer()\n",
    "tokenizer.fit_on_texts(dset_features)\n",
    "word_index = tokenizer.word_index\n",
    "\n",
    "# Convert text to sequences and pad them\n",
    "sequences = tokenizer.texts_to_sequences(dset_features)\n",
    "padded_sequences = pad_sequences(sequences)\n",
    "\n",
    "# Build the model\n",
    "model = tf.keras.Sequential([\n",
    "    tf.keras.layers.Embedding(input_dim=len(word_index) + 1, output_dim=16, input_length=padded_sequences.shape[1]),\n",
    "    #tf.keras.layers.Flatten(),\n",
    "    tf.keras.layers.LSTM(64),\n",
    "    tf.keras.layers.Dense(32, activation='relu'),\n",
    "    tf.keras.layers.Dropout(0.5),\n",
    "    tf.keras.layers.Dense(1)\n",
    "])\n",
    "\n",
    "# Compile the model\n",
    "model.compile(optimizer='adam', loss='mean_squared_error', metrics=['mae'])\n",
    "\n",
    "# Convert labels to NumPy array\n",
    "dset_labels = tf.convert_to_tensor(dset_labels, dtype=tf.float32)\n",
    "\n",
    "# Train the model\n",
    "model.fit(padded_sequences, dset_labels, epochs=200,validation_split=0.2)\n",
    "\n",
    "# Test the model with new data\n",
    "test_texts = [\"23+24\", \"27+28\"]\n",
    "test_sequences = tokenizer.texts_to_sequences(test_texts)\n",
    "padded_test_sequences = pad_sequences(test_sequences, maxlen=padded_sequences.shape[1])\n",
    "predictions = model.predict(padded_test_sequences)\n",
    "\n",
    "# Print the predictions\n",
    "for text, prediction in zip(test_texts, predictions):\n",
    "    print(f\"Text: {text}, Prediction: {prediction[0]}\")\n"
   ]
  },
  {
   "cell_type": "code",
   "execution_count": null,
   "metadata": {},
   "outputs": [],
   "source": [
    "\n",
    "model.predict(pad_sequences(tokenizer.texts_to_sequences(\"123+1\"), maxlen=padded_sequences.shape[1]))"
   ]
  },
  {
   "cell_type": "code",
   "execution_count": null,
   "metadata": {},
   "outputs": [],
   "source": []
  }
 ],
 "metadata": {
  "kernelspec": {
   "display_name": "Python 3",
   "language": "python",
   "name": "python3"
  },
  "language_info": {
   "codemirror_mode": {
    "name": "ipython",
    "version": 3
   },
   "file_extension": ".py",
   "mimetype": "text/x-python",
   "name": "python",
   "nbconvert_exporter": "python",
   "pygments_lexer": "ipython3",
   "version": "3.11.0"
  },
  "orig_nbformat": 4
 },
 "nbformat": 4,
 "nbformat_minor": 2
}
